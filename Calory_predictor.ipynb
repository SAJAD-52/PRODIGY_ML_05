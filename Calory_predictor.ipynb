{
  "nbformat": 4,
  "nbformat_minor": 0,
  "metadata": {
    "colab": {
      "private_outputs": true,
      "provenance": [],
      "gpuType": "T4",
      "authorship_tag": "ABX9TyOVZ4v2OtAN8wuRK0791EYt",
      "include_colab_link": true
    },
    "kernelspec": {
      "name": "python3",
      "display_name": "Python 3"
    },
    "language_info": {
      "name": "python"
    },
    "accelerator": "GPU"
  },
  "cells": [
    {
      "cell_type": "markdown",
      "metadata": {
        "id": "view-in-github",
        "colab_type": "text"
      },
      "source": [
        "<a href=\"https://colab.research.google.com/github/SAJAD-52/PRODIGY_ML_05/blob/main/Calory_predictor.ipynb\" target=\"_parent\"><img src=\"https://colab.research.google.com/assets/colab-badge.svg\" alt=\"Open In Colab\"/></a>"
      ]
    },
    {
      "cell_type": "code",
      "execution_count": null,
      "metadata": {
        "id": "MA-cRSdzuZV4"
      },
      "outputs": [],
      "source": [
        "import os\n",
        "import torch\n",
        "import torch.nn as nn\n",
        "import torch.optim as optim\n",
        "import torch.nn.functional as F\n",
        "import torchvision\n",
        "import torchvision.transforms as transforms\n",
        "import matplotlib.pyplot as plt\n",
        "import numpy as np\n",
        "import matplotlib\n",
        "from torch.utils.data import DataLoader, Subset\n",
        "from tqdm import tqdm\n",
        "\n",
        "%matplotlib inline"
      ]
    },
    {
      "cell_type": "code",
      "source": [
        "device = torch.device(\"cuda\" if torch.cuda.is_available() else \"cpu\")\n"
      ],
      "metadata": {
        "id": "J5ByY26sY_hY"
      },
      "execution_count": null,
      "outputs": []
    },
    {
      "cell_type": "code",
      "source": [
        "!pip install torch torchvision\n",
        "import os\n",
        "\n",
        "if \"food-101\" in os.listdir():\n",
        "    print(\"Dataset already exists\")\n",
        "else:\n",
        "    print(\"Downloading the data...\")\n",
        "    !wget http://data.vision.ee.ethz.ch/cvl/food-101.tar.gz\n",
        "    print(\"Dataset downloaded!\")\n",
        "    print(\"Extracting data..\")\n",
        "    !tar xzvf food-101.tar.gz > /dev/null 2>&1\n",
        "    print(\"Extraction done!\")\n"
      ],
      "metadata": {
        "id": "ESnYX1BKx5bX"
      },
      "execution_count": null,
      "outputs": []
    },
    {
      "cell_type": "code",
      "source": [
        "kaggle_input_directory = '/content/food-101/images/'\n",
        "classes = os.listdir(kaggle_input_directory)\n",
        "PATH = '/kaggle/input/food-101/food-101/food-101/images/'"
      ],
      "metadata": {
        "id": "Selj1aWx6ZDy"
      },
      "execution_count": null,
      "outputs": []
    },
    {
      "cell_type": "code",
      "source": [
        "transform = transforms.Compose(\n",
        "    [transforms.Resize((64,64)),\n",
        "     transforms.ToTensor(),\n",
        "     transforms.Normalize(mean=[0.5, 0.5, 0.5], std=[0.5, 0.5, 0.5])])\n",
        "\n",
        "trainset = torchvision.datasets.ImageFolder(kaggle_input_directory, transform=transform)\n",
        "trainloader = torch.utils.data.DataLoader(trainset, batch_size=64, num_workers=0, shuffle=True)\n",
        "\n",
        "testset = torchvision.datasets.ImageFolder(kaggle_input_directory, transform=transform)\n",
        "\n",
        "num_samples = 100\n",
        "indices = torch.randperm(len(testset))[:num_samples]\n",
        "\n",
        "subset_data = Subset(testset, indices)\n",
        "\n",
        "testloader = DataLoader(subset_data, batch_size=64, num_workers=0, shuffle=True)"
      ],
      "metadata": {
        "id": "XBLhMKKlflQo"
      },
      "execution_count": null,
      "outputs": []
    },
    {
      "cell_type": "code",
      "source": [
        "def image_shower(images, labels, n=4):\n",
        "    plt.figure(figsize=(12, 12))\n",
        "    for i, image in enumerate(images[:n]):\n",
        "        plt.subplot(n, n, i + 1)\n",
        "        image = image/ 2 + 0.5\n",
        "        plt.imshow(image.numpy().transpose((1, 2, 0)).squeeze())\n",
        "    print(\"Real Labels: \", ' '.join('%5s' % classes[label] for label in labels[:n]))"
      ],
      "metadata": {
        "id": "ag-RvixIo1FX"
      },
      "execution_count": null,
      "outputs": []
    },
    {
      "cell_type": "code",
      "source": [
        "images, labels = next(iter(trainloader))\n",
        "image_shower(images, labels)"
      ],
      "metadata": {
        "id": "mIMa6BXQbSm3"
      },
      "execution_count": null,
      "outputs": []
    },
    {
      "cell_type": "code",
      "source": [
        "model = torchvision.models.resnet50(pretrained=True)\n",
        "for param in model.parameters():\n",
        "    param.require = False\n",
        "\n",
        "model.fc = nn.Linear(2048, len(classes))"
      ],
      "metadata": {
        "id": "Mt7v361YbYqb"
      },
      "execution_count": null,
      "outputs": []
    },
    {
      "cell_type": "code",
      "source": [
        "criterion = nn.CrossEntropyLoss()\n",
        "optimizer = optim.Adam(model.parameters(), lr = 0.001)"
      ],
      "metadata": {
        "id": "ThlD5rg_dNMK"
      },
      "execution_count": null,
      "outputs": []
    },
    {
      "cell_type": "code",
      "source": [
        "epochs = 9\n",
        "model.to(device)\n",
        "\n",
        "for epoch in range(epochs):\n",
        "    running_loss = 0.0\n",
        "    for i, data in tqdm(enumerate(trainloader)):\n",
        "        inputs, labels = data[0].to(device), data[1].to(device)\n",
        "        optimizer.zero_grad()\n",
        "        outputs = model(inputs)\n",
        "        loss = criterion(outputs, labels)\n",
        "        loss.backward()\n",
        "        optimizer.step()\n",
        "\n",
        "        running_loss += loss.item()\n",
        "\n",
        "    print (\"Epoch {} - Training loss: {} \".format(epoch, running_loss/len(trainloader)))"
      ],
      "metadata": {
        "id": "6hMYk8TJrcCh"
      },
      "execution_count": null,
      "outputs": []
    },
    {
      "cell_type": "code",
      "source": [
        "correct = 0\n",
        "total = 0\n",
        "with torch.no_grad():\n",
        "    model.eval()\n",
        "    for data in testloader:\n",
        "        inputs, labels = data[0].to(device), data[1].to(device)\n",
        "        outputs = model(inputs)\n",
        "        _, predicted = torch.max(outputs.data, 1)\n",
        "        total += labels.size(0)\n",
        "        correct += (predicted == labels).sum().item()\n",
        "print(\"Accuracy: %d\" %(100 * correct/total))"
      ],
      "metadata": {
        "id": "Aq73b3p4reeR"
      },
      "execution_count": null,
      "outputs": []
    },
    {
      "cell_type": "code",
      "source": [
        "images, labels = next(iter(testloader))\n",
        "image_shower(images, labels)\n",
        "\n",
        "outputs = model(images.to(device))\n",
        "\n",
        "_, predicted = torch.max(outputs, 1)\n",
        "\n",
        "print(\"Predicted: \", \" \".join(\"%5s\" %classes[predict] for predict in predicted[:4]))"
      ],
      "metadata": {
        "id": "UCgm4sv_rgh6"
      },
      "execution_count": null,
      "outputs": []
    },
    {
      "cell_type": "code",
      "source": [
        "class Label_encoder:\n",
        "    def __init__(self, labels):\n",
        "        labels = list(set(labels))\n",
        "        self.labels = {label: idx for idx, label in enumerate(classes)}\n",
        "\n",
        "    def get_label(self, idx):\n",
        "        return list(self.labels.keys())[idx]\n",
        "\n",
        "    def get_idx(self, label):\n",
        "        return self.labels[label]\n",
        "\n",
        "encoder = Label_encoder(classes)\n",
        "for i in range(20):\n",
        "    print(encoder.get_label(i), encoder.get_idx( encoder.get_label(i) ))"
      ],
      "metadata": {
        "id": "UuBhNYBDrigL"
      },
      "execution_count": null,
      "outputs": []
    }
  ]
}